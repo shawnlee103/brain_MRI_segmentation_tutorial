{
 "cells": [
  {
   "cell_type": "code",
   "execution_count": 4,
   "id": "1c69d8fa",
   "metadata": {},
   "outputs": [
    {
     "data": {
      "text/html": [
       "<div>\n",
       "<style scoped>\n",
       "    .dataframe tbody tr th:only-of-type {\n",
       "        vertical-align: middle;\n",
       "    }\n",
       "\n",
       "    .dataframe tbody tr th {\n",
       "        vertical-align: top;\n",
       "    }\n",
       "\n",
       "    .dataframe thead th {\n",
       "        text-align: right;\n",
       "    }\n",
       "</style>\n",
       "<table border=\"1\" class=\"dataframe\">\n",
       "  <thead>\n",
       "    <tr style=\"text-align: right;\">\n",
       "      <th></th>\n",
       "      <th>name</th>\n",
       "      <th>age</th>\n",
       "      <th>tall</th>\n",
       "    </tr>\n",
       "  </thead>\n",
       "  <tbody>\n",
       "    <tr>\n",
       "      <th>0</th>\n",
       "      <td>a</td>\n",
       "      <td>20</td>\n",
       "      <td>168</td>\n",
       "    </tr>\n",
       "    <tr>\n",
       "      <th>1</th>\n",
       "      <td>b</td>\n",
       "      <td>30</td>\n",
       "      <td>175</td>\n",
       "    </tr>\n",
       "    <tr>\n",
       "      <th>2</th>\n",
       "      <td>c</td>\n",
       "      <td>28</td>\n",
       "      <td>183</td>\n",
       "    </tr>\n",
       "  </tbody>\n",
       "</table>\n",
       "</div>"
      ],
      "text/plain": [
       "  name  age  tall\n",
       "0    a   20   168\n",
       "1    b   30   175\n",
       "2    c   28   183"
      ]
     },
     "execution_count": 4,
     "metadata": {},
     "output_type": "execute_result"
    }
   ],
   "source": [
    "import pandas as pd\n",
    "name_list=['a','b','c']\n",
    "ages = [20,30,28]\n",
    "talls = [168,175,183]\n",
    "df = pd.DataFrame(data={\"name\": name_list, \"age\": ages, 'tall' : talls})\n",
    "df\n"
   ]
  },
  {
   "cell_type": "code",
   "execution_count": 8,
   "id": "035d56f2",
   "metadata": {},
   "outputs": [
    {
     "name": "stdout",
     "output_type": "stream",
     "text": [
      "unique [0 1 2 3 5]\n"
     ]
    }
   ],
   "source": [
    "import numpy as np\n",
    "data = np.array([0,1,1,2,3,3,3,3,5])\n",
    "print('unique',np.unique(data))"
   ]
  },
  {
   "cell_type": "code",
   "execution_count": 50,
   "id": "bb49a0af",
   "metadata": {},
   "outputs": [
    {
     "name": "stdout",
     "output_type": "stream",
     "text": [
      "x:\n",
      " [[1 2 3]\n",
      " [4 5 6]\n",
      " [7 8 9]]\n",
      "kernel:\n",
      " [[1 0 0]\n",
      " [0 1 0]\n",
      " [0 0 1]]\n"
     ]
    }
   ],
   "source": [
    "import numpy as np\n",
    "import os\n",
    "os.environ['TF_CPP_MIN_LOG_LEVEL']='2'\n",
    "import tensorflow as tf\n",
    "\n",
    "x = [[1,2,3],[4,5,6],[7,8,9]]\n",
    "x = np.array(x)\n",
    "print('x:\\n',x)\n",
    "x = tf.reshape(tf.convert_to_tensor(x, dtype=tf.float32),[1,3,3,1])\n",
    "\n",
    "kernel = [[1,0,0],[0,1,0],[0,0,1]]\n",
    "kernel = np.array(kernel)\n",
    "print('kernel:\\n',kernel)\n",
    "kernel = tf.reshape(tf.convert_to_tensor(kernel, dtype=tf.float32),[3,3,1,1])\n"
   ]
  },
  {
   "cell_type": "code",
   "execution_count": 51,
   "id": "c23bbff0",
   "metadata": {},
   "outputs": [
    {
     "name": "stdout",
     "output_type": "stream",
     "text": [
      "[[1 0 2 0 3]\n",
      " [0 0 0 0 0]\n",
      " [4 0 5 0 6]\n",
      " [0 0 0 0 0]\n",
      " [7 0 8 0 9]]\n"
     ]
    }
   ],
   "source": [
    "x_padding = [[1,0,2,0,3],[0,0,0,0,0],[4,0,5,0,6],[0,0,0,0,0],[7,0,8,0,9]]\n",
    "x_padding = np.array(x_padding)\n",
    "print(x_padding)\n",
    "x_padding = x_padding.reshape(1,5,5,1)"
   ]
  },
  {
   "cell_type": "code",
   "execution_count": 52,
   "id": "b0f9ba30",
   "metadata": {},
   "outputs": [
    {
     "name": "stdout",
     "output_type": "stream",
     "text": [
      "[[ 1.  0.  2.  0.  3.]\n",
      " [ 0.  6.  0.  8.  0.]\n",
      " [ 4.  0.  5.  0.  6.]\n",
      " [ 0. 12.  0. 14.  0.]\n",
      " [ 7.  0.  8.  0.  9.]]\n"
     ]
    }
   ],
   "source": [
    "\n",
    "transpose_conv = tf.nn.conv2d_transpose(input=x, \n",
    "                                        filters=kernel, \n",
    "                                        output_shape=[1,5,5,1], \n",
    "                                        strides=2, \n",
    "                                        padding='SAME')\n",
    "result = transpose_conv.numpy().reshape(5,5)\n",
    "print(result)"
   ]
  },
  {
   "cell_type": "code",
   "execution_count": 53,
   "id": "4849816f",
   "metadata": {},
   "outputs": [
    {
     "name": "stdout",
     "output_type": "stream",
     "text": [
      "[[ 1.  0.  2.  0.  3.]\n",
      " [ 0.  6.  0.  8.  0.]\n",
      " [ 4.  0.  5.  0.  6.]\n",
      " [ 0. 12.  0. 14.  0.]\n",
      " [ 7.  0.  8.  0.  9.]]\n"
     ]
    }
   ],
   "source": [
    "conv = tf.nn.conv2d(input=x_padding, \n",
    "                    filters=kernel, \n",
    "                    strides=1, \n",
    "                    padding='SAME')\n",
    "result = conv.numpy().reshape(5,5)\n",
    "print(result)"
   ]
  },
  {
   "cell_type": "code",
   "execution_count": 41,
   "id": "8f1f0c66",
   "metadata": {},
   "outputs": [
    {
     "name": "stdout",
     "output_type": "stream",
     "text": [
      "[[ 1.  0.  2.  0.  3.]\n",
      " [ 0.  6.  0.  8.  0.]\n",
      " [ 4.  0.  5.  0.  6.]\n",
      " [ 0. 12.  0. 14.  0.]\n",
      " [ 7.  0.  8.  0.  9.]]\n",
      "[[ 7.  0. 10.  0.  3.]\n",
      " [ 0. 12.  0. 16.  0.]\n",
      " [16.  0. 25.  0. 14.]\n",
      " [ 0. 24.  0. 28.  0.]\n",
      " [ 7.  0. 20.  0. 23.]]\n"
     ]
    }
   ],
   "source": [
    "conv = tf.nn.conv2d(input=x_padding, \n",
    "                    filters=kernel, \n",
    "                    strides=1, \n",
    "                    padding='SAME')\n",
    "result = conv.numpy().reshape(5,5)\n",
    "print(result)\n",
    "\n",
    "transpose_conv = tf.nn.conv2d_transpose(input=conv, \n",
    "                                        filters=kernel, \n",
    "                                        output_shape=[1,5,5,1], \n",
    "                                        strides=1, \n",
    "                                        padding='SAME')\n",
    "result = transpose_conv.numpy().reshape(5,5)\n",
    "print(result)"
   ]
  },
  {
   "cell_type": "code",
   "execution_count": null,
   "id": "c11c51c4",
   "metadata": {},
   "outputs": [],
   "source": []
  }
 ],
 "metadata": {
  "kernelspec": {
   "display_name": "Python 3 (ipykernel)",
   "language": "python",
   "name": "python3"
  },
  "language_info": {
   "codemirror_mode": {
    "name": "ipython",
    "version": 3
   },
   "file_extension": ".py",
   "mimetype": "text/x-python",
   "name": "python",
   "nbconvert_exporter": "python",
   "pygments_lexer": "ipython3",
   "version": "3.8.10"
  }
 },
 "nbformat": 4,
 "nbformat_minor": 5
}
