{
 "cells": [
  {
   "cell_type": "markdown",
   "id": "d7d008eb",
   "metadata": {},
   "source": [
    "# Pixel accuracy"
   ]
  },
  {
   "cell_type": "code",
   "execution_count": 6,
   "id": "3af3464e",
   "metadata": {},
   "outputs": [],
   "source": [
    "import numpy as np\n",
    "y_true = np.array([0,0,0,0,0,1,1,1,1,1])\n",
    "y_pred = np.array([0,1,0,0,0,1,1,1,0,1])\n",
    "\n",
    "\n",
    "y_true = np.array([[0,0,0,0,0],[0,0,0,1,1]])\n",
    "y_pred = np.array([[0,0,0,0,0],[0,0,0,1,0]])"
   ]
  },
  {
   "cell_type": "code",
   "execution_count": 7,
   "id": "c0af5485",
   "metadata": {},
   "outputs": [
    {
     "data": {
      "text/plain": [
       "0.9"
      ]
     },
     "execution_count": 7,
     "metadata": {},
     "output_type": "execute_result"
    }
   ],
   "source": [
    "def pixel_acc_func(y_true, y_pred):\n",
    "    return np.mean(y_pred == y_true)\n",
    " \n",
    "pixel_acc = pixel_acc_func(y_true, y_pred)\n",
    "pixel_acc"
   ]
  },
  {
   "cell_type": "markdown",
   "id": "5e04bb30",
   "metadata": {},
   "source": [
    "# 牛刀小試7\n",
    "# IOU"
   ]
  },
  {
   "cell_type": "code",
   "execution_count": 8,
   "id": "c8ff179f",
   "metadata": {
    "collapsed": true,
    "jupyter": {
     "outputs_hidden": true
    }
   },
   "outputs": [
    {
     "ename": "SyntaxError",
     "evalue": "invalid syntax (631820999.py, line 2)",
     "output_type": "error",
     "traceback": [
      "\u001b[0;36m  File \u001b[0;32m\"/tmp/ipykernel_1194/631820999.py\"\u001b[0;36m, line \u001b[0;32m2\u001b[0m\n\u001b[0;31m    intersection = np.sum(? * ?)\u001b[0m\n\u001b[0m                          ^\u001b[0m\n\u001b[0;31mSyntaxError\u001b[0m\u001b[0;31m:\u001b[0m invalid syntax\n"
     ]
    }
   ],
   "source": [
    "def iou(y_true, y_pred):\n",
    "    intersection = np.sum(? * ?)\n",
    "    sum_ = ?(y_true + y_pred) # function\n",
    "    result = (intersection) / (? - intersection)\n",
    "    return result\n",
    "\n",
    "iou_acc = iou(y_true,y_pred)\n",
    "iou_acc"
   ]
  },
  {
   "cell_type": "code",
   "execution_count": 9,
   "id": "c23aba2f",
   "metadata": {
    "jupyter": {
     "source_hidden": true
    }
   },
   "outputs": [
    {
     "data": {
      "text/plain": [
       "0.5"
      ]
     },
     "execution_count": 9,
     "metadata": {},
     "output_type": "execute_result"
    }
   ],
   "source": [
    "def iou(y_true, y_pred):\n",
    "    intersection = np.sum(y_true * y_pred)\n",
    "    sum_ = np.sum(y_true + y_pred)\n",
    "    result = (intersection ) / (sum_ - intersection)\n",
    "    return result\n",
    "\n",
    "iou_acc = iou(y_true,y_pred)\n",
    "iou_acc"
   ]
  },
  {
   "cell_type": "markdown",
   "id": "d378298c",
   "metadata": {},
   "source": [
    "# 牛刀小試8\n",
    "## dice_coef"
   ]
  },
  {
   "cell_type": "code",
   "execution_count": 10,
   "id": "e879b1ef",
   "metadata": {
    "collapsed": true,
    "jupyter": {
     "outputs_hidden": true
    }
   },
   "outputs": [
    {
     "ename": "SyntaxError",
     "evalue": "invalid syntax (740691340.py, line 6)",
     "output_type": "error",
     "traceback": [
      "\u001b[0;36m  File \u001b[0;32m\"/tmp/ipykernel_1194/740691340.py\"\u001b[0;36m, line \u001b[0;32m6\u001b[0m\n\u001b[0;31m    result = (? * ?) / (?)\u001b[0m\n\u001b[0m              ^\u001b[0m\n\u001b[0;31mSyntaxError\u001b[0m\u001b[0;31m:\u001b[0m invalid syntax\n"
     ]
    }
   ],
   "source": [
    "def dice_coef_func(y_true, y_pred):\n",
    "    y_truef = y_true.flatten()\n",
    "    y_predf = y_pred.flatten()\n",
    "    intersection = np.sum(y_truef * y_predf)\n",
    "    sum_ = np.sum(y_true + y_pred)\n",
    "    result = (? * ?) / (?)\n",
    "    return result\n",
    "\n",
    "dice_coef = dice_coef_func(y_true,y_pred)\n",
    "dice_coef"
   ]
  },
  {
   "cell_type": "code",
   "execution_count": 11,
   "id": "ab7e07a1",
   "metadata": {
    "jupyter": {
     "source_hidden": true
    }
   },
   "outputs": [
    {
     "data": {
      "text/plain": [
       "0.6666666666666666"
      ]
     },
     "execution_count": 11,
     "metadata": {},
     "output_type": "execute_result"
    }
   ],
   "source": [
    "def dice_coef_func(y_true, y_pred):\n",
    "    y_truef = y_true.flatten()\n",
    "    y_predf = y_pred.flatten()\n",
    "    intersection = np.sum(y_truef * y_predf)\n",
    "    sum_ = np.sum(y_true + y_pred)\n",
    "    result = (2 * intersection) / (sum_)\n",
    "    return result\n",
    "\n",
    "dice_coef = dice_coef_func(y_true,y_pred)\n",
    "dice_coef"
   ]
  },
  {
   "cell_type": "markdown",
   "id": "76d269b7",
   "metadata": {},
   "source": [
    "## Loss function"
   ]
  },
  {
   "cell_type": "code",
   "execution_count": 12,
   "id": "de84eceb",
   "metadata": {},
   "outputs": [],
   "source": [
    "import os\n",
    "os.environ['TF_CPP_MIN_LOG_LEVEL']='2'\n",
    "import tensorflow as tf\n",
    "from tensorflow.keras import backend as K\n",
    "import numpy as np\n",
    "\n",
    "smooth=100\n",
    "\n",
    "def dice_coef(y_true, y_pred):\n",
    "    y_truef=K.flatten(y_true)\n",
    "    y_predf=K.flatten(y_pred)\n",
    "    And=K.sum(y_truef* y_predf)\n",
    "    return((2* And + smooth) / (K.sum(y_truef) + K.sum(y_predf) + smooth))\n",
    "\n",
    "def dice_coef_loss(y_true, y_pred):\n",
    "    return 1.0-dice_coef(y_true, y_pred)\n",
    "\n",
    "def iou(y_true, y_pred):\n",
    "    intersection = K.sum(y_true * y_pred)\n",
    "    sum_ = K.sum(y_true + y_pred)\n",
    "    jac = (intersection + smooth) / (sum_ - intersection + smooth)\n",
    "    return jac\n",
    "\n",
    "def jac_distance(y_true, y_pred):\n",
    "    y_truef=K.flatten(y_true)\n",
    "    y_predf=K.flatten(y_pred)\n",
    "\n",
    "    return 1.0- iou(y_true, y_pred)"
   ]
  },
  {
   "cell_type": "code",
   "execution_count": 17,
   "id": "255ad51b",
   "metadata": {},
   "outputs": [
    {
     "data": {
      "text/plain": [
       "0.9811320754716981"
      ]
     },
     "execution_count": 17,
     "metadata": {},
     "output_type": "execute_result"
    }
   ],
   "source": [
    "y_true = np.array([0,0,0,0,0,1,1,1,1,1])\n",
    "y_pred = np.array([0,1,0,0,0,1,1,1,0,1])\n",
    "\n",
    "smooth = 0\n",
    "\n",
    "def iou(y_true, y_pred):\n",
    "    intersection = np.sum(y_true * y_pred)\n",
    "    sum_ = np.sum(y_true + y_pred)\n",
    "    result = (intersection +smooth) / (sum_ - intersection+smooth)\n",
    "    return result\n",
    "\n",
    "iou_acc = iou(y_true,y_pred)\n",
    "iou_acc"
   ]
  },
  {
   "cell_type": "code",
   "execution_count": null,
   "id": "7adbdad0",
   "metadata": {},
   "outputs": [],
   "source": []
  }
 ],
 "metadata": {
  "kernelspec": {
   "display_name": "Python 3 (ipykernel)",
   "language": "python",
   "name": "python3"
  },
  "language_info": {
   "codemirror_mode": {
    "name": "ipython",
    "version": 3
   },
   "file_extension": ".py",
   "mimetype": "text/x-python",
   "name": "python",
   "nbconvert_exporter": "python",
   "pygments_lexer": "ipython3",
   "version": "3.8.10"
  }
 },
 "nbformat": 4,
 "nbformat_minor": 5
}
